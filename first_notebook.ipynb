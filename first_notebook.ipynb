{
  "nbformat": 4,
  "nbformat_minor": 0,
  "metadata": {
    "colab": {
      "provenance": [],
      "toc_visible": true,
      "authorship_tag": "ABX9TyNXi83uU70Rk3vXxHB0XMCN",
      "include_colab_link": true
    },
    "kernelspec": {
      "name": "python3",
      "display_name": "Python 3"
    },
    "language_info": {
      "name": "python"
    }
  },
  "cells": [
    {
      "cell_type": "markdown",
      "metadata": {
        "id": "view-in-github",
        "colab_type": "text"
      },
      "source": [
        "<a href=\"https://colab.research.google.com/github/sravank194/Pythonrepo/blob/Dev/first_notebook.ipynb\" target=\"_parent\"><img src=\"https://colab.research.google.com/assets/colab-badge.svg\" alt=\"Open In Colab\"/></a>"
      ]
    },
    {
      "cell_type": "code",
      "source": [
        "l=[1,2,3,4,5]"
      ],
      "metadata": {
        "id": "D1lpZPg5wCr_"
      },
      "execution_count": 1,
      "outputs": []
    },
    {
      "cell_type": "code",
      "source": [
        "l[-1]"
      ],
      "metadata": {
        "colab": {
          "base_uri": "https://localhost:8080/"
        },
        "id": "cFGsBITJyMxP",
        "outputId": "53dec38b-3d51-4c90-cc7f-73a0215a1481"
      },
      "execution_count": 22,
      "outputs": [
        {
          "output_type": "execute_result",
          "data": {
            "text/plain": [
              "5"
            ]
          },
          "metadata": {},
          "execution_count": 22
        }
      ]
    },
    {
      "cell_type": "code",
      "source": [
        "lstring=['sravan','kumar','vollala','goud','lalitha','shivani','abhiram','ganesh']"
      ],
      "metadata": {
        "id": "X9ow3zQayQAA"
      },
      "execution_count": 25,
      "outputs": []
    },
    {
      "cell_type": "code",
      "source": [
        "len(lstring)"
      ],
      "metadata": {
        "colab": {
          "base_uri": "https://localhost:8080/"
        },
        "id": "z6pwdUPu0q4U",
        "outputId": "b6a68dac-f3e9-453a-e999-ff6eb0a290cd"
      },
      "execution_count": 32,
      "outputs": [
        {
          "output_type": "execute_result",
          "data": {
            "text/plain": [
              "8"
            ]
          },
          "metadata": {},
          "execution_count": 32
        }
      ]
    },
    {
      "cell_type": "code",
      "source": [
        "  name = lstring[8-1]\n",
        "  print(name)"
      ],
      "metadata": {
        "colab": {
          "base_uri": "https://localhost:8080/"
        },
        "id": "GfQtRB6r29jG",
        "outputId": "ae43037f-8cc7-4ffe-bdad-951817fccebd"
      },
      "execution_count": 38,
      "outputs": [
        {
          "output_type": "stream",
          "name": "stdout",
          "text": [
            "ganesh\n"
          ]
        }
      ]
    },
    {
      "cell_type": "code",
      "source": [
        "lstring[:4]"
      ],
      "metadata": {
        "colab": {
          "base_uri": "https://localhost:8080/"
        },
        "id": "NgCZvrU--KZn",
        "outputId": "9fd8a5b2-0b0a-4f1c-e578-53e146d638f3"
      },
      "execution_count": 56,
      "outputs": [
        {
          "output_type": "execute_result",
          "data": {
            "text/plain": [
              "['sravan', 'kumar', 'vollala', 'goud']"
            ]
          },
          "metadata": {},
          "execution_count": 56
        }
      ]
    },
    {
      "cell_type": "code",
      "source": [
        "lstring[2:]"
      ],
      "metadata": {
        "colab": {
          "base_uri": "https://localhost:8080/"
        },
        "id": "5onhYzBP6-n4",
        "outputId": "115eef4d-9481-489c-fa39-bf1c7ac700d2"
      },
      "execution_count": 58,
      "outputs": [
        {
          "output_type": "execute_result",
          "data": {
            "text/plain": [
              "['vollala', 'goud', 'lalitha', 'shivani', 'abhiram', 'ganesh']"
            ]
          },
          "metadata": {},
          "execution_count": 58
        }
      ]
    },
    {
      "cell_type": "code",
      "source": [
        "lstring[0][::-1]"
      ],
      "metadata": {
        "colab": {
          "base_uri": "https://localhost:8080/",
          "height": 35
        },
        "id": "lu_fBgEt-_Q3",
        "outputId": "d5e25b9a-dd0e-47fd-87b1-5e4d1a0e39af"
      },
      "execution_count": 64,
      "outputs": [
        {
          "output_type": "execute_result",
          "data": {
            "text/plain": [
              "'navars'"
            ],
            "application/vnd.google.colaboratory.intrinsic+json": {
              "type": "string"
            }
          },
          "metadata": {},
          "execution_count": 64
        }
      ]
    },
    {
      "cell_type": "code",
      "source": [
        "lstring[::-1]"
      ],
      "metadata": {
        "colab": {
          "base_uri": "https://localhost:8080/"
        },
        "id": "9zrjAav3Iy6L",
        "outputId": "7b367a55-9403-4d36-dd26-febb7b894854"
      },
      "execution_count": 71,
      "outputs": [
        {
          "output_type": "execute_result",
          "data": {
            "text/plain": [
              "['ganesh',\n",
              " 'abhiram',\n",
              " 'shivani',\n",
              " 'lalitha',\n",
              " 'goud',\n",
              " 'vollala',\n",
              " 'kumar',\n",
              " 'sravan']"
            ]
          },
          "metadata": {},
          "execution_count": 71
        }
      ]
    },
    {
      "cell_type": "code",
      "source": [
        "\n",
        "i=len(lstring)\n",
        "j=0\n",
        "l=[]\n",
        "while j<i:\n",
        "  name = lstring[j][::-1]\n",
        "  l.append(name)\n",
        "  j=j+1\n",
        "print(l)"
      ],
      "metadata": {
        "colab": {
          "base_uri": "https://localhost:8080/"
        },
        "id": "19602jB1-sTc",
        "outputId": "b4ca9018-fcfb-44af-a6bd-11be2cfb11a5"
      },
      "execution_count": 70,
      "outputs": [
        {
          "output_type": "stream",
          "name": "stdout",
          "text": [
            "['navars', 'ramuk', 'alallov', 'duog', 'ahtilal', 'inavihs', 'marihba', 'hsenag']\n"
          ]
        }
      ]
    },
    {
      "cell_type": "code",
      "source": [
        "l=['sravan','kumar','vollala','goud']\n",
        "s='vollal'\n",
        "if s in l:\n",
        "  print(f'index of {s} is :', l.index(s))\n",
        "else:\n",
        "  print(f'given string {s} is not available : -1' )"
      ],
      "metadata": {
        "colab": {
          "base_uri": "https://localhost:8080/"
        },
        "id": "2EByVtQ5gVJB",
        "outputId": "b4192568-0acb-46c6-bb01-b1557e974077"
      },
      "execution_count": 76,
      "outputs": [
        {
          "output_type": "stream",
          "name": "stdout",
          "text": [
            "given string vollal is not available : -1\n"
          ]
        }
      ]
    },
    {
      "cell_type": "code",
      "source": [
        "\n",
        "i=len(lstring)\n",
        "while i>0:\n",
        "  name = lstring[i-1]\n",
        "  print(f\"Index of {name}:\", i-1)\n",
        "  i=i-1"
      ],
      "metadata": {
        "colab": {
          "base_uri": "https://localhost:8080/"
        },
        "id": "U-tGA_kH0IIL",
        "outputId": "ea9774fd-8bbd-43e2-b69d-fab1702f8321"
      },
      "execution_count": 41,
      "outputs": [
        {
          "output_type": "stream",
          "name": "stdout",
          "text": [
            "Index of ganesh: 7\n",
            "Index of abhiram: 6\n",
            "Index of shivani: 5\n",
            "Index of lalitha: 4\n",
            "Index of goud: 3\n",
            "Index of vollala: 2\n",
            "Index of kumar: 1\n",
            "Index of sravan: 0\n"
          ]
        }
      ]
    },
    {
      "cell_type": "code",
      "source": [
        "lstring[-1][::-1]"
      ],
      "metadata": {
        "colab": {
          "base_uri": "https://localhost:8080/",
          "height": 35
        },
        "id": "qYfTC2hTye8p",
        "outputId": "ddedb1ec-eb5a-4041-fdff-280c025d5a03"
      },
      "execution_count": 28,
      "outputs": [
        {
          "output_type": "execute_result",
          "data": {
            "text/plain": [
              "'hsenag'"
            ],
            "application/vnd.google.colaboratory.intrinsic+json": {
              "type": "string"
            }
          },
          "metadata": {},
          "execution_count": 28
        }
      ]
    },
    {
      "cell_type": "code",
      "source": [
        "if 'vollala' in lstring:\n",
        "  print('true')\n",
        "else:\n",
        "   print('false')\n"
      ],
      "metadata": {
        "colab": {
          "base_uri": "https://localhost:8080/"
        },
        "id": "201yt5RazAyl",
        "outputId": "7fce7062-0ff3-41e6-fbdc-ccc66fbd42e4"
      },
      "execution_count": 29,
      "outputs": [
        {
          "output_type": "stream",
          "name": "stdout",
          "text": [
            "true\n"
          ]
        }
      ]
    },
    {
      "cell_type": "code",
      "source": [
        "i=len(lstring)\n",
        "print(i)"
      ],
      "metadata": {
        "colab": {
          "base_uri": "https://localhost:8080/"
        },
        "id": "SZiEtbu_2pie",
        "outputId": "efc63c99-c1ac-45e5-b3c8-2682dd824b6d"
      },
      "execution_count": 36,
      "outputs": [
        {
          "output_type": "stream",
          "name": "stdout",
          "text": [
            "8\n"
          ]
        }
      ]
    },
    {
      "cell_type": "code",
      "source": [
        "i=1\n",
        "while i <=10:\n",
        "  print(i * '*')\n",
        "  i=i+1\n",
        "\n"
      ],
      "metadata": {
        "colab": {
          "base_uri": "https://localhost:8080/"
        },
        "id": "NA6MA6C6wH7I",
        "outputId": "e4b8011f-0cc7-4dab-994b-80457507c3a5"
      },
      "execution_count": 21,
      "outputs": [
        {
          "output_type": "stream",
          "name": "stdout",
          "text": [
            "*\n",
            "**\n",
            "***\n",
            "****\n",
            "*****\n",
            "******\n",
            "*******\n",
            "********\n",
            "*********\n",
            "**********\n"
          ]
        }
      ]
    },
    {
      "cell_type": "markdown",
      "source": [
        "# **1. maths operations**"
      ],
      "metadata": {
        "id": "vDt8q05dKBPV"
      }
    },
    {
      "cell_type": "code",
      "execution_count": 1,
      "metadata": {
        "colab": {
          "base_uri": "https://localhost:8080/"
        },
        "id": "ycixbjDZJSlq",
        "outputId": "8e694f57-08db-433b-9375-16096121ff9a"
      },
      "outputs": [
        {
          "output_type": "stream",
          "name": "stdout",
          "text": [
            "hello world\n"
          ]
        }
      ],
      "source": [
        "print(\"hello world\")"
      ]
    },
    {
      "cell_type": "code",
      "source": [
        "import numpy as np"
      ],
      "metadata": {
        "id": "VsabAOezUWQD"
      },
      "execution_count": 11,
      "outputs": []
    },
    {
      "cell_type": "code",
      "source": [
        "np.array([[1, 2, 3], [4, 5, 6]])"
      ],
      "metadata": {
        "colab": {
          "base_uri": "https://localhost:8080/"
        },
        "id": "vICvpEILVDai",
        "outputId": "d72bcbb2-a190-40e9-d868-859282e0b0e9"
      },
      "execution_count": 12,
      "outputs": [
        {
          "output_type": "execute_result",
          "data": {
            "text/plain": [
              "array([[1, 2, 3],\n",
              "       [4, 5, 6]])"
            ]
          },
          "metadata": {},
          "execution_count": 12
        }
      ]
    },
    {
      "cell_type": "code",
      "source": [
        "numpy.ones((3, 3))"
      ],
      "metadata": {
        "colab": {
          "base_uri": "https://localhost:8080/"
        },
        "id": "ULnCiT6XUUs5",
        "outputId": "0bb853f1-7a97-4709-a3b9-4c0b0f12be01"
      },
      "execution_count": 13,
      "outputs": [
        {
          "output_type": "execute_result",
          "data": {
            "text/plain": [
              "array([[1., 1., 1.],\n",
              "       [1., 1., 1.],\n",
              "       [1., 1., 1.]])"
            ]
          },
          "metadata": {},
          "execution_count": 13
        }
      ]
    },
    {
      "cell_type": "code",
      "source": [
        "print(20+30)\n",
        "print(30-20)\n",
        "print(20*30)\n",
        "print(60/30)\n",
        "print(60%30)"
      ],
      "metadata": {
        "colab": {
          "base_uri": "https://localhost:8080/"
        },
        "id": "AEn_XBpmKS8E",
        "outputId": "297aaec5-e82e-4c1a-a8db-eef1b8a189bb"
      },
      "execution_count": 6,
      "outputs": [
        {
          "output_type": "stream",
          "name": "stdout",
          "text": [
            "50\n",
            "10\n",
            "600\n",
            "2.0\n",
            "0\n"
          ]
        }
      ]
    },
    {
      "cell_type": "code",
      "source": [],
      "metadata": {
        "id": "a0VvfSoJKSQl"
      },
      "execution_count": null,
      "outputs": []
    }
  ]
}