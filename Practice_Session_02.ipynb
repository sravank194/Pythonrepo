{
  "nbformat": 4,
  "nbformat_minor": 0,
  "metadata": {
    "colab": {
      "provenance": [],
      "authorship_tag": "ABX9TyMbRGDDLYfEafAK89lA4VHN",
      "include_colab_link": true
    },
    "kernelspec": {
      "name": "python3",
      "display_name": "Python 3"
    },
    "language_info": {
      "name": "python"
    }
  },
  "cells": [
    {
      "cell_type": "markdown",
      "metadata": {
        "id": "view-in-github",
        "colab_type": "text"
      },
      "source": [
        "<a href=\"https://colab.research.google.com/github/sravank194/Pythonrepo/blob/Dev/Practice_Session_02.ipynb\" target=\"_parent\"><img src=\"https://colab.research.google.com/assets/colab-badge.svg\" alt=\"Open In Colab\"/></a>"
      ]
    },
    {
      "cell_type": "markdown",
      "source": [
        "# **1. print multiplication table of a given number**"
      ],
      "metadata": {
        "id": "3RDZHm0WHxpG"
      }
    },
    {
      "cell_type": "code",
      "execution_count": 5,
      "metadata": {
        "id": "GLQswJAf50mB"
      },
      "outputs": [],
      "source": [
        "def multiplication_table(number):\n",
        "    for i in range(1, 11):\n",
        "        print(f\"{number} x {i} = {number * i}\")"
      ]
    },
    {
      "cell_type": "code",
      "source": [
        "multiplication_table(5)"
      ],
      "metadata": {
        "colab": {
          "base_uri": "https://localhost:8080/"
        },
        "id": "w4QSns1EKQqU",
        "outputId": "6ec9752b-879b-4baa-e670-6224785ca023"
      },
      "execution_count": 6,
      "outputs": [
        {
          "output_type": "stream",
          "name": "stdout",
          "text": [
            "5 x 1 = 5\n",
            "5 x 2 = 10\n",
            "5 x 3 = 15\n",
            "5 x 4 = 20\n",
            "5 x 5 = 25\n",
            "5 x 6 = 30\n",
            "5 x 7 = 35\n",
            "5 x 8 = 40\n",
            "5 x 9 = 45\n",
            "5 x 10 = 50\n"
          ]
        }
      ]
    },
    {
      "cell_type": "markdown",
      "source": [
        "# **2. Guess a number**"
      ],
      "metadata": {
        "id": "_j0Q1uKyHw34"
      }
    },
    {
      "cell_type": "code",
      "source": [
        "number_to_guess = random.randint(1000, 9999)\n",
        "print(number_to_guess)"
      ],
      "metadata": {
        "colab": {
          "base_uri": "https://localhost:8080/"
        },
        "id": "UeUOcyfPOChq",
        "outputId": "f17a57e5-de69-46c8-dc36-c8e14db01d68"
      },
      "execution_count": 28,
      "outputs": [
        {
          "output_type": "stream",
          "name": "stdout",
          "text": [
            "5194\n"
          ]
        }
      ]
    },
    {
      "cell_type": "code",
      "source": [
        "import random\n",
        "\n",
        "def guess_the_number():\n",
        "    # Generate a random number between 1 and 100\n",
        "    number_to_guess = random.randint(1, 100)\n",
        "\n",
        "    # Initialize the number of guesses taken\n",
        "    attempts = 0\n",
        "\n",
        "    print(\"Welcome to the Guess the Number game!\")\n",
        "    print(\"I have selected a number between 1 and 100.\")\n",
        "\n",
        "    # Start a loop to keep asking the user for guesses\n",
        "    while True:\n",
        "        # Prompt the user for their guess\n",
        "        try:\n",
        "            user_guess = int(input(\"Enter your guess: \"))\n",
        "        except ValueError:\n",
        "            print(\"Please enter a valid number!\")\n",
        "            continue\n",
        "\n",
        "        # Increment the number of attempts\n",
        "        attempts += 1\n",
        "\n",
        "        # Check if the guess is correct, too high, or too low\n",
        "        if user_guess < number_to_guess:\n",
        "            print(\"Too low! Try again.\")\n",
        "        elif user_guess > number_to_guess:\n",
        "            print(\"Too high! Try again.\")\n",
        "        else:\n",
        "            print(f\"Congratulations! You guessed the number {number_to_guess} in {attempts} attempts.\")\n",
        "            break  # Exit the loop when the user guesses correctly"
      ],
      "metadata": {
        "id": "JmGKFoMdK89M"
      },
      "execution_count": 9,
      "outputs": []
    },
    {
      "cell_type": "code",
      "source": [
        "# Call the function to start the game\n",
        "guess_the_number()"
      ],
      "metadata": {
        "colab": {
          "base_uri": "https://localhost:8080/"
        },
        "id": "ut4IPsHSNwVK",
        "outputId": "a4a545e1-778a-4b7e-b209-07e3c23b39a2"
      },
      "execution_count": 10,
      "outputs": [
        {
          "output_type": "stream",
          "name": "stdout",
          "text": [
            "Welcome to the Guess the Number game!\n",
            "I have selected a number between 1 and 100.\n",
            "Enter your guess: 50\n",
            "Too low! Try again.\n",
            "Enter your guess: 70\n",
            "Too high! Try again.\n",
            "Enter your guess: 65\n",
            "Too high! Try again.\n",
            "Enter your guess: 58\n",
            "Too high! Try again.\n",
            "Enter your guess: 55\n",
            "Congratulations! You guessed the number 55 in 5 attempts.\n"
          ]
        }
      ]
    },
    {
      "cell_type": "code",
      "source": [
        "def show_menu():\n",
        "    \"\"\"Displays the menu options for the user.\"\"\"\n",
        "    print(\"\\nTo-Do List Menu:\")\n",
        "    print(\"1. View To-Do List\")\n",
        "    print(\"2. Add Task\")\n",
        "    print(\"3. Remove Task\")\n",
        "    print(\"4. Exit\")\n",
        "\n",
        "def view_tasks(tasks):\n",
        "    \"\"\"Displays the current list of tasks.\"\"\"\n",
        "    if tasks:\n",
        "        print(\"\\nYour To-Do List:\")\n",
        "        for idx, task in enumerate(tasks, 1):\n",
        "            print(f\"{idx}. {task}\")\n",
        "    else:\n",
        "        print(\"\\nYour To-Do list is currently empty.\")\n",
        "\n",
        "def add_task(tasks):\n",
        "    \"\"\"Prompts the user to add a new task to the list.\"\"\"\n",
        "    task = input(\"Enter the task you want to add: \")\n",
        "    tasks.append(task)\n",
        "    print(f\"Task '{task}' has been added to your To-Do list.\")\n",
        "\n",
        "def remove_task(tasks):\n",
        "    \"\"\"Prompts the user to remove a task from the list.\"\"\"\n",
        "    if not tasks:\n",
        "        print(\"\\nYour To-Do list is empty. No tasks to remove.\")\n",
        "        return\n",
        "\n",
        "    try:\n",
        "        task_number = int(input(\"Enter the task number you want to remove: \"))\n",
        "        if 1 <= task_number <= len(tasks):\n",
        "            removed_task = tasks.pop(task_number - 1)\n",
        "            print(f\"Task '{removed_task}' has been removed from your To-Do list.\")\n",
        "        else:\n",
        "            print(\"Invalid task number.\")\n",
        "    except ValueError:\n",
        "        print(\"Please enter a valid number.\")\n",
        "\n",
        "def todo_list():\n",
        "    \"\"\"Main function to manage the To-Do list.\"\"\"\n",
        "    tasks = []  # Initialize an empty list to store tasks\n",
        "\n",
        "    while True:\n",
        "        show_menu()\n",
        "        try:\n",
        "            choice = int(input(\"\\nEnter your choice (1-4): \"))\n",
        "            if choice == 1:\n",
        "                view_tasks(tasks)\n",
        "            elif choice == 2:\n",
        "                add_task(tasks)\n",
        "            elif choice == 3:\n",
        "                remove_task(tasks)\n",
        "            elif choice == 4:\n",
        "                print(\"Goodbye!\")\n",
        "                break\n",
        "            else:\n",
        "                print(\"Invalid choice. Please choose between 1-4.\")\n",
        "        except ValueError:\n",
        "            print(\"Invalid input. Please enter a number between 1 and 4.\")\n"
      ],
      "metadata": {
        "id": "l2fOTvV4QoZj"
      },
      "execution_count": 29,
      "outputs": []
    },
    {
      "cell_type": "code",
      "source": [
        "# Call the main function to start the program\n",
        "todo_list()"
      ],
      "metadata": {
        "colab": {
          "base_uri": "https://localhost:8080/"
        },
        "id": "Oz5-_E00Qry5",
        "outputId": "c399fab8-8183-4e6a-994b-2a3f30e06e6a"
      },
      "execution_count": 31,
      "outputs": [
        {
          "output_type": "stream",
          "name": "stdout",
          "text": [
            "\n",
            "To-Do List Menu:\n",
            "1. View To-Do List\n",
            "2. Add Task\n",
            "3. Remove Task\n",
            "4. Exit\n",
            "\n",
            "Enter your choice (1-4): 1\n",
            "\n",
            "Your To-Do list is currently empty.\n",
            "\n",
            "To-Do List Menu:\n",
            "1. View To-Do List\n",
            "2. Add Task\n",
            "3. Remove Task\n",
            "4. Exit\n",
            "\n",
            "Enter your choice (1-4): 1\n",
            "\n",
            "Your To-Do list is currently empty.\n",
            "\n",
            "To-Do List Menu:\n",
            "1. View To-Do List\n",
            "2. Add Task\n",
            "3. Remove Task\n",
            "4. Exit\n",
            "\n",
            "Enter your choice (1-4): 2\n",
            "Enter the task you want to add: I need to give some time to children\n",
            "Task 'I need to give some time to children' has been added to your To-Do list.\n",
            "\n",
            "To-Do List Menu:\n",
            "1. View To-Do List\n",
            "2. Add Task\n",
            "3. Remove Task\n",
            "4. Exit\n",
            "\n",
            "Enter your choice (1-4): 1\n",
            "\n",
            "Your To-Do List:\n",
            "1. I need to give some time to children\n",
            "\n",
            "To-Do List Menu:\n",
            "1. View To-Do List\n",
            "2. Add Task\n",
            "3. Remove Task\n",
            "4. Exit\n",
            "\n",
            "Enter your choice (1-4): 4\n",
            "Goodbye!\n"
          ]
        }
      ]
    },
    {
      "cell_type": "markdown",
      "source": [
        "# **3. fibonacci sequence**"
      ],
      "metadata": {
        "id": "QYEQmmhsdGvM"
      }
    },
    {
      "cell_type": "code",
      "source": [
        "def fibonacci_recursive(n):\n",
        "    # Base cases\n",
        "    if n == 0:\n",
        "        return 0\n",
        "    elif n == 1:\n",
        "        return 1\n",
        "    else:\n",
        "        # Recursive case\n",
        "        return fibonacci_recursive(n - 1) + fibonacci_recursive(n - 2)\n",
        "\n",
        "def print_fibonacci(n):\n",
        "    for i in range(n):\n",
        "        print(fibonacci_recursive(i), end=' ')\n",
        "    print()  # New line at the end"
      ],
      "metadata": {
        "colab": {
          "base_uri": "https://localhost:8080/"
        },
        "id": "yxgFLGLWcr6y",
        "outputId": "2412ec7a-8b6e-4fa4-c91d-faed8f349e89"
      },
      "execution_count": 32,
      "outputs": [
        {
          "output_type": "stream",
          "name": "stdout",
          "text": [
            "Enter the number of Fibonacci numbers to print: 10\n",
            "0 1 1 2 3 5 8 13 21 34 \n"
          ]
        }
      ]
    },
    {
      "cell_type": "code",
      "source": [
        "# Example usage\n",
        "n = int(input(\"Enter the number of Fibonacci numbers to print: \"))\n",
        "print_fibonacci(n)"
      ],
      "metadata": {
        "id": "uCQXNz4WdCJp"
      },
      "execution_count": null,
      "outputs": []
    },
    {
      "cell_type": "markdown",
      "source": [
        "# **4. factorial**"
      ],
      "metadata": {
        "id": "MPusJTPXd7EY"
      }
    },
    {
      "cell_type": "code",
      "source": [
        "def factorial_iterative(n):\n",
        "    if n < 0:\n",
        "        return \"Factorial is not defined for negative numbers\"\n",
        "\n",
        "    result = 1  # Start with the identity value of multiplication (1)\n",
        "    for i in range(1, n + 1):  # Loop from 1 to n\n",
        "        result *= i  # Multiply result by the current number i\n",
        "\n",
        "    return result"
      ],
      "metadata": {
        "id": "r20MzNIYd1vB"
      },
      "execution_count": 33,
      "outputs": []
    },
    {
      "cell_type": "code",
      "source": [
        "# Example usage\n",
        "n = int(input(\"Enter a number to calculate its factorial: \"))\n",
        "print(f\"The factorial of {n} is {factorial_iterative(n)}\")"
      ],
      "metadata": {
        "colab": {
          "base_uri": "https://localhost:8080/"
        },
        "id": "9nwnjTDad4Mw",
        "outputId": "cb21e7e6-0e3e-4b1b-dcc3-9aa55e54abe0"
      },
      "execution_count": 34,
      "outputs": [
        {
          "output_type": "stream",
          "name": "stdout",
          "text": [
            "Enter a number to calculate its factorial: 3\n",
            "The factorial of 3 is 6\n"
          ]
        }
      ]
    }
  ]
}