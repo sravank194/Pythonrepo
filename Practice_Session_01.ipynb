{
  "nbformat": 4,
  "nbformat_minor": 0,
  "metadata": {
    "colab": {
      "provenance": [],
      "authorship_tag": "ABX9TyP2V8UcXnfqkf+MzfCQbOx2",
      "include_colab_link": true
    },
    "kernelspec": {
      "name": "python3",
      "display_name": "Python 3"
    },
    "language_info": {
      "name": "python"
    }
  },
  "cells": [
    {
      "cell_type": "markdown",
      "metadata": {
        "id": "view-in-github",
        "colab_type": "text"
      },
      "source": [
        "<a href=\"https://colab.research.google.com/github/sravank194/Pythonrepo/blob/Dev/Practice_Session_01.ipynb\" target=\"_parent\"><img src=\"https://colab.research.google.com/assets/colab-badge.svg\" alt=\"Open In Colab\"/></a>"
      ]
    },
    {
      "cell_type": "code",
      "execution_count": 7,
      "metadata": {
        "id": "aKZDlQNQNLZX"
      },
      "outputs": [],
      "source": [
        "def math(a,b):\n",
        "  print(f\"Addition of {a} & {b} is :\" ,a+b)\n",
        "  print(f\"Substraction of {a} & {b} is :\" ,a-b)\n",
        "  print(f\"Multification of {a} & {b} is :\" ,a*b)\n",
        "  print(f\"Devision / of {a} & {b} is :\" ,a/b)\n",
        "  print(f\"remainder % of {a} & {b} is :\" ,a%b)"
      ]
    },
    {
      "cell_type": "code",
      "source": [
        "math(10,5)"
      ],
      "metadata": {
        "colab": {
          "base_uri": "https://localhost:8080/"
        },
        "id": "p9QJNs3qQIRI",
        "outputId": "27476b21-3a60-44da-9f7a-47122248a674"
      },
      "execution_count": 8,
      "outputs": [
        {
          "output_type": "stream",
          "name": "stdout",
          "text": [
            "Addition of 10 & 5 is : 15\n",
            "Substraction of 10 & 5 is : 5\n",
            "Multification of 10 & 5 is : 50\n",
            "Devision / of 10 & 5 is : 2.0\n",
            "remainder % of 10 & 5 is : 0\n"
          ]
        }
      ]
    },
    {
      "cell_type": "code",
      "source": [
        "def checkevenorodd(a):\n",
        "  if a%2==0:\n",
        "    print(f\"{a} is even number\")\n",
        "  else:\n",
        "    print(f\"{a} is odd number\")"
      ],
      "metadata": {
        "id": "N9dsltsDQjtd"
      },
      "execution_count": 9,
      "outputs": []
    },
    {
      "cell_type": "code",
      "source": [
        "checkevenorodd(10)"
      ],
      "metadata": {
        "colab": {
          "base_uri": "https://localhost:8080/"
        },
        "id": "UHb4Z8PuQvRD",
        "outputId": "27bbadb1-ecf1-44c4-9fc6-fe956f9d1912"
      },
      "execution_count": 13,
      "outputs": [
        {
          "output_type": "stream",
          "name": "stdout",
          "text": [
            "10 is even number\n"
          ]
        }
      ]
    },
    {
      "cell_type": "code",
      "source": [
        "def sum(l):\n",
        "  sum1=0\n",
        "  for i in l:\n",
        "    sum1=sum1+i\n",
        "  return sum1"
      ],
      "metadata": {
        "id": "ySc1-ySlQ5_T"
      },
      "execution_count": 19,
      "outputs": []
    },
    {
      "cell_type": "code",
      "source": [
        "l=[1,2,4]\n",
        "sum(l)"
      ],
      "metadata": {
        "colab": {
          "base_uri": "https://localhost:8080/"
        },
        "id": "nirYvMDxRNLb",
        "outputId": "f2731894-75d2-439d-e629-e828b36c27a7"
      },
      "execution_count": 22,
      "outputs": [
        {
          "output_type": "execute_result",
          "data": {
            "text/plain": [
              "7"
            ]
          },
          "metadata": {},
          "execution_count": 22
        }
      ]
    },
    {
      "cell_type": "code",
      "source": [
        "s='sravani'\n",
        "v=['a','e','i','o','u']\n",
        "list1=[]\n",
        "for i in s:\n",
        "  j=0\n",
        "  if i in v:\n",
        "    j=j+1\n",
        "    list1.append(j)\n",
        "sum(list1)\n",
        ""
      ],
      "metadata": {
        "colab": {
          "base_uri": "https://localhost:8080/"
        },
        "id": "9owVwpxsSgBl",
        "outputId": "77e45241-553b-42c7-9b69-625dd11d5465"
      },
      "execution_count": 28,
      "outputs": [
        {
          "output_type": "execute_result",
          "data": {
            "text/plain": [
              "3"
            ]
          },
          "metadata": {},
          "execution_count": 28
        }
      ]
    },
    {
      "cell_type": "code",
      "source": [
        "string='srars'\n",
        "if string==string[::-1]:\n",
        "  print('palindrome')\n",
        "else:\n",
        "  print('not palindrome')"
      ],
      "metadata": {
        "colab": {
          "base_uri": "https://localhost:8080/"
        },
        "id": "WxtjFvVLSIV0",
        "outputId": "42a2dcbf-9e68-4217-eef5-75d4ba5bbefe"
      },
      "execution_count": 31,
      "outputs": [
        {
          "output_type": "stream",
          "name": "stdout",
          "text": [
            "palindrome\n"
          ]
        }
      ]
    },
    {
      "cell_type": "code",
      "source": [
        "max_list=[2,4,6,8]\n",
        "print('Maximum number is : ', max(max_list))\n",
        "print('Minimum number is : ', min(max_list))\n"
      ],
      "metadata": {
        "colab": {
          "base_uri": "https://localhost:8080/"
        },
        "id": "Tf47qrCaexk4",
        "outputId": "b014ada6-c58f-47f9-c92d-e170ccc350d8"
      },
      "execution_count": 33,
      "outputs": [
        {
          "output_type": "stream",
          "name": "stdout",
          "text": [
            "Maximum number is :  8\n",
            "Minimum number is :  2\n"
          ]
        }
      ]
    },
    {
      "cell_type": "code",
      "source": [
        "def checkprime(n):\n",
        "  if n>1 and n%2!=0:\n",
        "    for i in range(2,(n//2)+1):\n",
        "      if n%i==0:\n",
        "        print(f\"{n} is not prime number\")\n",
        "        break\n",
        "\n",
        "    else:\n",
        "      print(f\"{n} is prime number\")\n",
        "  else:\n",
        "   print(f\"{n} is not prime number\")\n"
      ],
      "metadata": {
        "id": "vRXmF1SWfOQs"
      },
      "execution_count": 49,
      "outputs": []
    },
    {
      "cell_type": "code",
      "source": [
        "checkprime(23)"
      ],
      "metadata": {
        "colab": {
          "base_uri": "https://localhost:8080/"
        },
        "id": "vSFLGgxOnMd3",
        "outputId": "74f9edca-f487-420e-9bed-7e71d6b1b4b3"
      },
      "execution_count": 54,
      "outputs": [
        {
          "output_type": "stream",
          "name": "stdout",
          "text": [
            "23 is prime number\n"
          ]
        }
      ]
    },
    {
      "cell_type": "code",
      "source": [
        "str='sravani'\n",
        "str[::-1]"
      ],
      "metadata": {
        "colab": {
          "base_uri": "https://localhost:8080/",
          "height": 35
        },
        "id": "wwD7hs_spnzI",
        "outputId": "a746f109-cbba-4afa-e705-5fd5234baa10"
      },
      "execution_count": 55,
      "outputs": [
        {
          "output_type": "execute_result",
          "data": {
            "text/plain": [
              "'inavars'"
            ],
            "application/vnd.google.colaboratory.intrinsic+json": {
              "type": "string"
            }
          },
          "metadata": {},
          "execution_count": 55
        }
      ]
    },
    {
      "cell_type": "code",
      "source": [
        "l1=[1,2,3,4,5]\n",
        "l2=[1,3,4,6,7]\n",
        "s1=set(l1)\n",
        "s2=set(l2)\n",
        "list(s1.intersection(s2))"
      ],
      "metadata": {
        "colab": {
          "base_uri": "https://localhost:8080/"
        },
        "id": "J-0Moc2P4K6G",
        "outputId": "0c09bfcd-6bdc-4a10-cf38-0dbe8f70fb36"
      },
      "execution_count": 3,
      "outputs": [
        {
          "output_type": "execute_result",
          "data": {
            "text/plain": [
              "[1, 3, 4]"
            ]
          },
          "metadata": {},
          "execution_count": 3
        }
      ]
    },
    {
      "cell_type": "code",
      "source": [
        "l1=[1,2,3,4,5]\n",
        "l2=[1,3,4,6,7]\n",
        "for i in l1:\n",
        "  for j in l2:\n",
        "    if i==j:\n",
        "      print(i)"
      ],
      "metadata": {
        "colab": {
          "base_uri": "https://localhost:8080/"
        },
        "id": "EMAI5L-_3zvB",
        "outputId": "7aaf00a6-aaf3-4567-8db8-0873802a55b3"
      },
      "execution_count": 1,
      "outputs": [
        {
          "output_type": "stream",
          "name": "stdout",
          "text": [
            "1\n",
            "3\n",
            "4\n"
          ]
        }
      ]
    },
    {
      "cell_type": "code",
      "source": [
        "(11//2)+1"
      ],
      "metadata": {
        "colab": {
          "base_uri": "https://localhost:8080/"
        },
        "id": "VlAXwy4xn_il",
        "outputId": "0c233966-ab51-490a-d370-1f9df716686c"
      },
      "execution_count": 38,
      "outputs": [
        {
          "output_type": "execute_result",
          "data": {
            "text/plain": [
              "6"
            ]
          },
          "metadata": {},
          "execution_count": 38
        }
      ]
    },
    {
      "cell_type": "code",
      "source": [
        "def getSum(n):\n",
        "\n",
        "  sum = 0\n",
        "  for digit in str(n):\n",
        "    sum = sum + int(digit)\n",
        "  return sum"
      ],
      "metadata": {
        "id": "_hj22rJ0vWD7"
      },
      "execution_count": 90,
      "outputs": []
    },
    {
      "cell_type": "code",
      "source": [
        "def getSum1(n):\n",
        "    strr = str(n)\n",
        "    list_of_number = list(map(int, strr.strip()))\n",
        "    return sum(list_of_number)"
      ],
      "metadata": {
        "id": "Xiks7uWu1Ozl"
      },
      "execution_count": 92,
      "outputs": []
    },
    {
      "cell_type": "code",
      "source": [
        "def getSum2(n):\n",
        "\n",
        "    sum = 0\n",
        "    while (n != 0):\n",
        "      sum = sum + (n % 10)\n",
        "      n = n//10\n",
        "    return sum"
      ],
      "metadata": {
        "id": "eDp49rvH1Z15"
      },
      "execution_count": 94,
      "outputs": []
    },
    {
      "cell_type": "code",
      "source": [
        "def sumnum(n):\n",
        "  sum=0\n",
        "  while n!=0:\n",
        "    sum=sum+n%10\n",
        "    n=n//10\n",
        "  return sum"
      ],
      "metadata": {
        "id": "5dTGOYC3iZGw"
      },
      "execution_count": 1,
      "outputs": []
    },
    {
      "cell_type": "code",
      "source": [
        "n=12345\n",
        "sumnum(n)"
      ],
      "metadata": {
        "colab": {
          "base_uri": "https://localhost:8080/"
        },
        "id": "WqAGeuqUyR--",
        "outputId": "affb7d82-36d7-4ac1-aa87-91cb352346d1"
      },
      "execution_count": 2,
      "outputs": [
        {
          "output_type": "execute_result",
          "data": {
            "text/plain": [
              "15"
            ]
          },
          "metadata": {},
          "execution_count": 2
        }
      ]
    },
    {
      "cell_type": "code",
      "source": [
        "l=[1,2,2,3,4,5,6,2,3]\n",
        "t=set(l)\n",
        "ls=list(t)\n",
        "ls"
      ],
      "metadata": {
        "colab": {
          "base_uri": "https://localhost:8080/"
        },
        "id": "BffSmxwwjEo0",
        "outputId": "31d857db-ab77-4deb-e5da-7757d1b6cef6"
      },
      "execution_count": 3,
      "outputs": [
        {
          "output_type": "execute_result",
          "data": {
            "text/plain": [
              "[1, 2, 3, 4, 5, 6]"
            ]
          },
          "metadata": {},
          "execution_count": 3
        }
      ]
    },
    {
      "cell_type": "code",
      "source": [
        "1//10"
      ],
      "metadata": {
        "colab": {
          "base_uri": "https://localhost:8080/"
        },
        "id": "0xZsvGIr1yMG",
        "outputId": "85da4666-d288-4e0f-de45-6ee61884a783"
      },
      "execution_count": 110,
      "outputs": [
        {
          "output_type": "execute_result",
          "data": {
            "text/plain": [
              "0"
            ]
          },
          "metadata": {},
          "execution_count": 110
        }
      ]
    },
    {
      "cell_type": "code",
      "source": [
        "10//2"
      ],
      "metadata": {
        "colab": {
          "base_uri": "https://localhost:8080/"
        },
        "id": "Qs5aDx0C1vz7",
        "outputId": "2786beb1-1888-4017-d030-182e826ab18c"
      },
      "execution_count": 96,
      "outputs": [
        {
          "output_type": "execute_result",
          "data": {
            "text/plain": [
              "5"
            ]
          },
          "metadata": {},
          "execution_count": 96
        }
      ]
    },
    {
      "cell_type": "code",
      "source": [
        "n=[123]\n",
        "j=0\n",
        "for i in n.items():\n",
        "  j=j+i\n",
        "print(j)"
      ],
      "metadata": {
        "colab": {
          "base_uri": "https://localhost:8080/",
          "height": 211
        },
        "id": "DRx3eaFNuTp5",
        "outputId": "841f2b6d-56dc-49d9-f727-922e1a64f746"
      },
      "execution_count": 59,
      "outputs": [
        {
          "output_type": "error",
          "ename": "AttributeError",
          "evalue": "'list' object has no attribute 'items'",
          "traceback": [
            "\u001b[0;31m---------------------------------------------------------------------------\u001b[0m",
            "\u001b[0;31mAttributeError\u001b[0m                            Traceback (most recent call last)",
            "\u001b[0;32m<ipython-input-59-d7ade2a194c6>\u001b[0m in \u001b[0;36m<cell line: 3>\u001b[0;34m()\u001b[0m\n\u001b[1;32m      1\u001b[0m \u001b[0mn\u001b[0m\u001b[0;34m=\u001b[0m\u001b[0;34m[\u001b[0m\u001b[0;36m123\u001b[0m\u001b[0;34m]\u001b[0m\u001b[0;34m\u001b[0m\u001b[0;34m\u001b[0m\u001b[0m\n\u001b[1;32m      2\u001b[0m \u001b[0mj\u001b[0m\u001b[0;34m=\u001b[0m\u001b[0;36m0\u001b[0m\u001b[0;34m\u001b[0m\u001b[0;34m\u001b[0m\u001b[0m\n\u001b[0;32m----> 3\u001b[0;31m \u001b[0;32mfor\u001b[0m \u001b[0mi\u001b[0m \u001b[0;32min\u001b[0m \u001b[0mn\u001b[0m\u001b[0;34m.\u001b[0m\u001b[0mitems\u001b[0m\u001b[0;34m(\u001b[0m\u001b[0;34m)\u001b[0m\u001b[0;34m:\u001b[0m\u001b[0;34m\u001b[0m\u001b[0;34m\u001b[0m\u001b[0m\n\u001b[0m\u001b[1;32m      4\u001b[0m   \u001b[0mj\u001b[0m\u001b[0;34m=\u001b[0m\u001b[0mj\u001b[0m\u001b[0;34m+\u001b[0m\u001b[0mi\u001b[0m\u001b[0;34m\u001b[0m\u001b[0;34m\u001b[0m\u001b[0m\n\u001b[1;32m      5\u001b[0m \u001b[0mprint\u001b[0m\u001b[0;34m(\u001b[0m\u001b[0mj\u001b[0m\u001b[0;34m)\u001b[0m\u001b[0;34m\u001b[0m\u001b[0;34m\u001b[0m\u001b[0m\n",
            "\u001b[0;31mAttributeError\u001b[0m: 'list' object has no attribute 'items'"
          ]
        }
      ]
    }
  ]
}